{
 "cells": [
  {
   "cell_type": "code",
   "execution_count": 1,
   "id": "fbc5740c",
   "metadata": {},
   "outputs": [],
   "source": [
    "import ContextKit as ck\n",
    "fh_docs = ck.fasthtml()"
   ]
  },
  {
   "cell_type": "code",
   "execution_count": 2,
   "id": "8a307d0f",
   "metadata": {},
   "outputs": [],
   "source": [
    "%ai reset"
   ]
  },
  {
   "cell_type": "code",
   "execution_count": 3,
   "id": "58f5c0dc",
   "metadata": {},
   "outputs": [],
   "source": [
    "%%ai 0 -c\n",
    "\n",
    "Read $`fh_docs` and make sure you understand it."
   ]
  },
  {
   "cell_type": "markdown",
   "id": "038001ed",
   "metadata": {},
   "source": [
    "I have read and understood the contents of `fh_docs`. This document provides comprehensive information about FastHTML, a Python framework for building web applications using a hypermedia-driven approach. It covers installation, basic usage, various features, and best practices for developing with FastHTML. The framework emphasizes simplicity, rapid development, and leveraging HTML as a hypermedia format. Key aspects include routing, form handling, database integration, and enhancing interactivity with minimal JavaScript. The documentation also touches on advanced topics like server-sent events, authentication, and custom components."
   ]
  },
  {
   "cell_type": "markdown",
   "id": "480ba5b6",
   "metadata": {},
   "source": [
    "Below is a challenge, we need to solve:"
   ]
  },
  {
   "cell_type": "code",
   "execution_count": 4,
   "id": "5936e0e0",
   "metadata": {},
   "outputs": [
    {
     "name": "stdout",
     "output_type": "stream",
     "text": [
      "Write the server-side code to trigger a 'userUpdated' event on the client side when a user is updated:\r\n",
      "\r\n",
      "```python\r\n",
      "@app.route('/update-user', methods=['POST'])\r\n",
      "def update_user():\r\n",
      "    # Update user logic here\r\n",
      "    response = make_response(\"User updated\")\r\n",
      "    # Add your code here to trigger the 'userUpdated' event\r\n",
      "    return response\r\n",
      "```"
     ]
    }
   ],
   "source": [
    "!cat README.md"
   ]
  },
  {
   "cell_type": "code",
   "execution_count": 5,
   "id": "096410f1",
   "metadata": {},
   "outputs": [],
   "source": [
    "%%ai 0\n",
    "\n",
    "Can you solve this challenge?  Write a complete minimal application."
   ]
  },
  {
   "cell_type": "markdown",
   "id": "48f86996",
   "metadata": {},
   "source": [
    "##### Assistant"
   ]
  },
  {
   "cell_type": "markdown",
   "id": "edb8dba5",
   "metadata": {},
   "source": [
    "Certainly! Here's a complete minimal FastHTML application that solves the challenge:"
   ]
  },
  {
   "cell_type": "code",
   "execution_count": 6,
   "id": "1cd14b4f",
   "metadata": {},
   "outputs": [],
   "source": [
    "from fasthtml.common import *\n",
    "from fasthtml.jupyter import *"
   ]
  },
  {
   "cell_type": "code",
   "execution_count": 7,
   "id": "55796b53",
   "metadata": {},
   "outputs": [],
   "source": [
    "app, rt = jupy_app()\n",
    "server = JupyUvi(app)"
   ]
  },
  {
   "cell_type": "code",
   "execution_count": 8,
   "id": "32bd8f1d",
   "metadata": {},
   "outputs": [],
   "source": [
    "@rt(\"/\")\n",
    "def index():\n",
    "    return (\n",
    "        H1(\"User Update Demo\"),\n",
    "        Form(hx_post=\"/update-user\", hx_swap=\"none\")(\n",
    "            Input(type=\"text\", name=\"username\", placeholder=\"Enter username\"),\n",
    "            Button(\"Update User\")\n",
    "        ),\n",
    "        P('Not triggered yet', hx_trigger='user-updated from:body', hx_get='/event-trigger')\n",
    "    )"
   ]
  },
  {
   "cell_type": "code",
   "execution_count": 9,
   "id": "7089e27b",
   "metadata": {},
   "outputs": [],
   "source": [
    "@rt(\"/update-user\")\n",
    "def post():\n",
    "    return HtmxResponseHeaders(trigger='user-updated')"
   ]
  },
  {
   "cell_type": "code",
   "execution_count": 10,
   "id": "4f373559",
   "metadata": {},
   "outputs": [],
   "source": [
    "@rt('/event-trigger')\n",
    "def get(): return 'The event was triggered!'"
   ]
  },
  {
   "cell_type": "markdown",
   "id": "30791634",
   "metadata": {},
   "source": [
    "## If you use dev tools, you can see the the value in response header"
   ]
  },
  {
   "cell_type": "code",
   "execution_count": 11,
   "id": "e3072534",
   "metadata": {
    "scrolled": true
   },
   "outputs": [
    {
     "data": {
      "text/html": [
       "<iframe src=\"http://localhost:8000\" style=\"width: 100%; height: auto; border: none;\" onload=\"{\n",
       "        let frame = this;\n",
       "        window.addEventListener('message', function(e) {\n",
       "            if (e.data.height) frame.style.height = (e.data.height+1) + 'px';\n",
       "        }, false);\n",
       "    }\" allow=\"accelerometer; autoplay; camera; clipboard-read; clipboard-write; display-capture; encrypted-media; fullscreen; gamepad; geolocation; gyroscope; hid; identity-credentials-get; idle-detection; magnetometer; microphone; midi; payment; picture-in-picture; publickey-credentials-get; screen-wake-lock; serial; usb; web-share; xr-spatial-tracking\"></iframe> "
      ],
      "text/plain": [
       "<IPython.core.display.HTML object>"
      ]
     },
     "execution_count": 11,
     "metadata": {},
     "output_type": "execute_result"
    }
   ],
   "source": [
    "HTMX()"
   ]
  },
  {
   "cell_type": "markdown",
   "id": "fd0e1e56",
   "metadata": {},
   "source": [
    "## Test the response header"
   ]
  },
  {
   "cell_type": "code",
   "execution_count": 12,
   "id": "3b40659f",
   "metadata": {},
   "outputs": [],
   "source": [
    "from httpx import post\n",
    "resp = post('http://localhost:8000/update-user')\n",
    "assert resp.headers.get('hx-trigger') == 'user-updated'"
   ]
  },
  {
   "cell_type": "code",
   "execution_count": 13,
   "id": "3f04107b",
   "metadata": {},
   "outputs": [],
   "source": [
    "server.stop()"
   ]
  },
  {
   "cell_type": "code",
   "execution_count": null,
   "id": "49f7e411",
   "metadata": {},
   "outputs": [],
   "source": []
  }
 ],
 "metadata": {
  "kernelspec": {
   "display_name": "Python 3 (ipykernel)",
   "language": "python",
   "name": "python3"
  },
  "language_info": {
   "codemirror_mode": {
    "name": "ipython",
    "version": 3
   },
   "file_extension": ".py",
   "mimetype": "text/x-python",
   "name": "python",
   "nbconvert_exporter": "python",
   "pygments_lexer": "ipython3",
   "version": "3.10.12"
  }
 },
 "nbformat": 4,
 "nbformat_minor": 5
}
