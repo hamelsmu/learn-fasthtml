{
 "cells": [
  {
   "cell_type": "code",
   "execution_count": 56,
   "id": "fbc5740c",
   "metadata": {},
   "outputs": [],
   "source": [
    "import ContextKit as ck\n",
    "from httpx import get\n",
    "fh_docs = ck.fasthtml()\n",
    "hm_docs = ck.read.read_url('https://hypermedia.systems/tricks-of-the-htmx-masters/')\n",
    "htmx_summary = get('https://gist.githubusercontent.com/jph00/4ad7d35ad79013aded41b5ba535a12a3/raw/f677ec873cedb23ccd81fd4f24ba3b903746e26a/hypermedia-applications.summ.md')"
   ]
  },
  {
   "cell_type": "code",
   "execution_count": 2,
   "id": "58f5c0dc",
   "metadata": {},
   "outputs": [],
   "source": [
    "%%ai 0 -c\n",
    "\n",
    "Read $`fh_docs` and make sure you understand it."
   ]
  },
  {
   "cell_type": "markdown",
   "id": "0dda96c6",
   "metadata": {},
   "source": [
    "I have read and understood the content of `fh_docs`. It provides comprehensive information about FastHTML, a Python web framework designed for rapid development of web applications using a hypermedia-driven approach. The documentation covers installation, basic usage, various features, and best practices for developing with FastHTML."
   ]
  },
  {
   "cell_type": "code",
   "execution_count": 3,
   "id": "66b2bd05",
   "metadata": {},
   "outputs": [],
   "source": [
    "%%ai 0 -c\n",
    "\n",
    "Read $`hm_docs` and make sure you understand it."
   ]
  },
  {
   "cell_type": "markdown",
   "id": "b3b84652",
   "metadata": {},
   "source": [
    "I have read and understood the content of `hm_docs`. It provides an in-depth look at advanced features and techniques for using htmx, a JavaScript library that extends HTML as a hypermedia. The chapter covers:\n",
    "\n",
    "1. Advanced htmx attributes like `hx-swap` and `hx-trigger`\n",
    "2. Event handling in htmx, including custom events\n",
    "3. HTTP request and response manipulation\n",
    "4. Techniques for updating multiple elements on a page\n",
    "5. Debugging strategies for htmx applications\n",
    "6. Security considerations when using htmx\n",
    "7. Configuration options for htmx\n",
    "\n",
    "The chapter emphasizes the power of events in htmx and how they can be used to create sophisticated user interfaces while maintaining a hypermedia-driven approach. It also discusses the importance of understanding when to use htmx and when to consider alternative approaches for complex UI patterns."
   ]
  },
  {
   "cell_type": "markdown",
   "id": "480ba5b6",
   "metadata": {},
   "source": [
    "Below is a challenge, we need to solve with FastHTML"
   ]
  },
  {
   "cell_type": "code",
   "execution_count": 4,
   "id": "5936e0e0",
   "metadata": {},
   "outputs": [
    {
     "name": "stdout",
     "output_type": "stream",
     "text": [
      "Write the HTML for a button that, when clicked, will abort any ongoing HTMX request on an element with id \"long-running-request\"."
     ]
    }
   ],
   "source": [
    "!cat README.md"
   ]
  },
  {
   "cell_type": "code",
   "execution_count": 5,
   "id": "096410f1",
   "metadata": {},
   "outputs": [],
   "source": [
    "%%aio 0\n",
    "\n",
    "How would setup a minimal example that demonstrates the above functionality using FastHTML and HTMX?  Don't write any code yet, just outline small incremental steps that you would take to build the application iteratively.  This outline is meant for someone to follow so they can implement these small portions in cells of a Jupyter notebook."
   ]
  },
  {
   "cell_type": "markdown",
   "id": "e5569e79",
   "metadata": {},
   "source": [
    "- To demonstrate the functionality of aborting an ongoing HTMX request using FastHTML and HTMX, we can follow these incremental steps:\n",
    "\n",
    "1. Set up a basic FastHTML application structure\n",
    "2. Create a route for a long-running request\n",
    "3. Add an HTML element that triggers the long-running request\n",
    "4. Implement the abort button\n",
    "5. Add JavaScript to handle the abort functionality\n",
    "6. Test the implementation\n",
    "\n",
    "These steps will allow us to build the application piece by piece in a Jupyter notebook, testing each component as we go. Each step can be implemented in a separate cell, making it easy to iterate and debug."
   ]
  },
  {
   "cell_type": "code",
   "execution_count": 6,
   "id": "1618e794",
   "metadata": {},
   "outputs": [],
   "source": [
    "%%aip 0\n",
    "\n",
    "Write the imports and setup the basic FastHTML apps.  Make sure you use the jupyter interface (`jupy_app`, etc.)"
   ]
  },
  {
   "cell_type": "code",
   "execution_count": 7,
   "id": "9dd3afe8",
   "metadata": {},
   "outputs": [
    {
     "name": "stderr",
     "output_type": "stream",
     "text": [
      "/var/folders/hz/fg03h5c13x96l0g9420_qvlm0000gn/T/ipykernel_20676/3884256542.py:6: RuntimeWarning: coroutine 'sleep' was never awaited\n",
      "  sleep(3)\n",
      "RuntimeWarning: Enable tracemalloc to get the object allocation traceback\n"
     ]
    }
   ],
   "source": [
    "from fasthtml.common import *\n",
    "from fasthtml.jupyter import *\n",
    "\n",
    "app, rt = jupy_app()\n",
    "server = JupyUvi(app)"
   ]
  },
  {
   "cell_type": "code",
   "execution_count": 8,
   "id": "55796b53",
   "metadata": {},
   "outputs": [],
   "source": [
    "%%aip 0\n",
    "\n",
    "Set up a minimal index route with the components you need. Make it as minimal as posible."
   ]
  },
  {
   "cell_type": "code",
   "execution_count": 53,
   "id": "15c31dfb",
   "metadata": {},
   "outputs": [],
   "source": [
    "@rt('/')\n",
    "def index():\n",
    "    return Titled(\"HTMX Abort Demo\",\n",
    "        Div(id=\"long-running-request\"),\n",
    "        Button(\"Start Long Request\", id=\"start-btn\", hx_get=\"/long-request\", hx_target=\"#long-running-request\"),\n",
    "        Br(),\n",
    "        Button(\"Abort Request\", id=\"abort-btn\", onclick=\"document.getElementById('start-btn').dispatchEvent(new Event('htmx:abort')); alert('Hello Jeremy!')\")\n",
    "    )"
   ]
  },
  {
   "cell_type": "code",
   "execution_count": 40,
   "id": "78a75405",
   "metadata": {},
   "outputs": [],
   "source": [
    "%%aip 0\n",
    "\n",
    "Create a route for a long-running request.  Again, make it minimal and simple to illustrate the point. Do not use async."
   ]
  },
  {
   "cell_type": "code",
   "execution_count": 54,
   "id": "6daf5e08",
   "metadata": {},
   "outputs": [],
   "source": [
    "import time\n",
    "\n",
    "@rt('/long-request')\n",
    "def long_request():\n",
    "    # Simulate a long-running process\n",
    "    time.sleep(3)\n",
    "    return \"Long request completed!\""
   ]
  },
  {
   "cell_type": "code",
   "execution_count": 55,
   "id": "7053ee73",
   "metadata": {},
   "outputs": [
    {
     "data": {
      "text/html": [
       "<iframe src=\"http://localhost:8000\" style=\"width: 100%; height: auto; border: none;\" onload=\"{\n",
       "        let frame = this;\n",
       "        window.addEventListener('message', function(e) {\n",
       "            if (e.data.height) frame.style.height = (e.data.height+1) + 'px';\n",
       "        }, false);\n",
       "    }\" allow=\"accelerometer; autoplay; camera; clipboard-read; clipboard-write; display-capture; encrypted-media; fullscreen; gamepad; geolocation; gyroscope; hid; identity-credentials-get; idle-detection; magnetometer; microphone; midi; payment; picture-in-picture; publickey-credentials-get; screen-wake-lock; serial; usb; web-share; xr-spatial-tracking\"></iframe> "
      ],
      "text/plain": [
       "<IPython.core.display.HTML object>"
      ]
     },
     "execution_count": 55,
     "metadata": {},
     "output_type": "execute_result"
    }
   ],
   "source": [
    "HTMX()"
   ]
  },
  {
   "cell_type": "code",
   "execution_count": 19,
   "id": "87568708",
   "metadata": {},
   "outputs": [],
   "source": [
    "%%ai\n",
    "\n",
    "How do I add this hyperscript to the Abort button, but using FastHTML?\n",
    "\n",
    "<button\n",
    "  _=\"on click send htmx:abort to #contacts-btn\n",
    "    on htmx:beforeRequest from #contacts-btn remove @disabled from me\n",
    "    on htmx:afterRequest from #contacts-btn add @disabled to me\">\n",
    "  Cancel\n",
    "</button>"
   ]
  },
  {
   "cell_type": "markdown",
   "id": "8567c3d9",
   "metadata": {},
   "source": [
    "To add the hyperscript to the Abort button using FastHTML, you can use the `_` attribute in the `Button` component. Here's how you can modify the existing `index` function to include the hyperscript:\n",
    "\n",
    "```python\n",
    "@rt('/')\n",
    "def index():\n",
    "    return Titled(\"HTMX Abort Demo\",\n",
    "        Div(id=\"long-running-request\"),\n",
    "        Button(\"Start Long Request\", id=\"start-btn\", hx_get=\"/long-request\", hx_target=\"#long-running-request\"),\n",
    "        Br(),\n",
    "        Button(\"Abort Request\", id=\"abort-btn\", _=\"\"\"\n",
    "            on click send htmx:abort to #start-btn\n",
    "            on htmx:beforeRequest from #start-btn remove @disabled from me\n",
    "            on htmx:afterRequest from #start-btn add @disabled to me\n",
    "        \"\"\")\n",
    "    )\n",
    "```\n",
    "\n",
    "This modification will add the hyperscript functionality to the Abort button. Note that I've changed `#contacts-btn` to `#start-btn` to match the ID of the button that starts the long-running request in your setup."
   ]
  },
  {
   "cell_type": "code",
   "execution_count": 15,
   "id": "eb3a33c0",
   "metadata": {},
   "outputs": [],
   "source": [
    "%%ai\n",
    "\n",
    "Does it need to be async?"
   ]
  },
  {
   "cell_type": "markdown",
   "id": "8a06e4de",
   "metadata": {},
   "source": [
    "You're right to question this. For a simple demonstration of the HTMX abort functionality, we don't necessarily need to use async. We can simplify this to a synchronous function that simulates a long-running process. Here's a revised, non-async version:\n",
    "\n",
    "```python\n",
    "import time\n",
    "\n",
    "@rt('/long-request')\n",
    "def long_request():\n",
    "    # Simulate a long-running process\n",
    "    for i in range(10):\n",
    "        time.sleep(1)\n",
    "        yield f\"Processing step {i+1}/10...\\n\"\n",
    "    yield \"Long request completed!\"\n",
    "```\n",
    "\n",
    "This synchronous version will work just as well for our demonstration purposes and is simpler to understand and implement. The key point is that it's a process that takes some time to complete, allowing us to demonstrate the abort functionality."
   ]
  },
  {
   "cell_type": "markdown",
   "id": "30791634",
   "metadata": {},
   "source": [
    "## If you use dev tools, you can see the the value in response header"
   ]
  },
  {
   "cell_type": "code",
   "execution_count": 11,
   "id": "e3072534",
   "metadata": {
    "scrolled": true
   },
   "outputs": [
    {
     "data": {
      "text/html": [
       "<iframe src=\"http://localhost:8000\" style=\"width: 100%; height: auto; border: none;\" onload=\"{\n",
       "        let frame = this;\n",
       "        window.addEventListener('message', function(e) {\n",
       "            if (e.data.height) frame.style.height = (e.data.height+1) + 'px';\n",
       "        }, false);\n",
       "    }\" allow=\"accelerometer; autoplay; camera; clipboard-read; clipboard-write; display-capture; encrypted-media; fullscreen; gamepad; geolocation; gyroscope; hid; identity-credentials-get; idle-detection; magnetometer; microphone; midi; payment; picture-in-picture; publickey-credentials-get; screen-wake-lock; serial; usb; web-share; xr-spatial-tracking\"></iframe> "
      ],
      "text/plain": [
       "<IPython.core.display.HTML object>"
      ]
     },
     "execution_count": 11,
     "metadata": {},
     "output_type": "execute_result"
    }
   ],
   "source": [
    "HTMX()"
   ]
  },
  {
   "cell_type": "markdown",
   "id": "fd0e1e56",
   "metadata": {},
   "source": [
    "## Test the response header"
   ]
  },
  {
   "cell_type": "code",
   "execution_count": 12,
   "id": "3b40659f",
   "metadata": {},
   "outputs": [],
   "source": [
    "from httpx import post\n",
    "resp = post('http://localhost:8000/update-user')\n",
    "assert resp.headers.get('hx-trigger') == 'user-updated'"
   ]
  },
  {
   "cell_type": "code",
   "execution_count": 12,
   "id": "3f04107b",
   "metadata": {},
   "outputs": [],
   "source": [
    "server.stop()"
   ]
  },
  {
   "cell_type": "markdown",
   "id": "173d825a",
   "metadata": {},
   "source": [
    "In FastHTML, you can use the `Br()` component to create a line break (`<br>`) in your HTML. It's capitalized as `Br()`, not `BR()`. Here's an example of how to use it:\n",
    "\n",
    "```python\n",
    "@rt('/')\n",
    "def index():\n",
    "    return Titled(\"HTMX Abort Demo\",\n",
    "        Div(id=\"long-running-request\"),\n",
    "        Button(\"Start Long Request\", id=\"start-btn\", hx_get=\"/long-request\", hx_target=\"#long-running-request\"),\n",
    "        Br(),  # This is the correct way to add a line break\n",
    "        Button(\"Abort Request\", id=\"abort-btn\")\n",
    "    )\n",
    "```\n",
    "\n",
    "The `Br()` component is imported along with other HTML components when you do `from fasthtml.common import *` at the beginning of your script."
   ]
  },
  {
   "cell_type": "code",
   "execution_count": 57,
   "id": "746411e3",
   "metadata": {},
   "outputs": [],
   "source": [
    "@dataclass\n",
    "class FD():\n",
    "    document_path: str\n",
    "    top_folder: str\n",
    "    subfolder: str\n",
    "    filename: str\n",
    "    action: str = 'unclassified'"
   ]
  },
  {
   "cell_type": "code",
   "execution_count": null,
   "id": "a03772c0",
   "metadata": {},
   "outputs": [],
   "source": []
  }
 ],
 "metadata": {
  "kernelspec": {
   "display_name": "Python 3 (ipykernel)",
   "language": "python",
   "name": "python3"
  },
  "language_info": {
   "codemirror_mode": {
    "name": "ipython",
    "version": 3
   },
   "file_extension": ".py",
   "mimetype": "text/x-python",
   "name": "python",
   "nbconvert_exporter": "python",
   "pygments_lexer": "ipython3",
   "version": "3.10.12"
  }
 },
 "nbformat": 4,
 "nbformat_minor": 5
}
